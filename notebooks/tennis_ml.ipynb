{
 "cells": [
  {
   "cell_type": "code",
   "execution_count": 183,
   "metadata": {},
   "outputs": [],
   "source": [
    "import tensorflow as tf\n",
    "import keras\n",
    "import pandas as pd\n",
    "import numpy as np\n",
    "import os\n",
    "import sys\n",
    "import glob\n",
    "import matplotlib.pyplot as plt\n",
    "from sklearn.linear_model import LinearRegression\n",
    "\n",
    "import lightgbm as lgb\n",
    "# import xgboost as xgb\n",
    "import time\n",
    "import datetime\n",
    "# from catboost import CatBoostRegressor\n",
    "from sklearn.preprocessing import LabelEncoder\n",
    "from sklearn.model_selection import StratifiedKFold, KFold, RepeatedKFold\n",
    "from sklearn.metrics import mean_absolute_error\n",
    "from sklearn.linear_model import LinearRegression\n",
    "\n",
    "from scipy.signal import hilbert\n",
    "from scipy.signal import hann\n",
    "from scipy.signal import convolve\n",
    "from scipy import stats\n",
    "from sklearn.kernel_ridge import KernelRidge\n",
    "from tqdm import tqdm_notebook"
   ]
  },
  {
   "cell_type": "code",
   "execution_count": 112,
   "metadata": {},
   "outputs": [],
   "source": [
    "pd.set_option('display.max_columns', None)"
   ]
  },
  {
   "cell_type": "code",
   "execution_count": 113,
   "metadata": {},
   "outputs": [],
   "source": [
    "players = pd.read_csv('/home/ryan/ml/tennis_ml/tennis_atp/atp_players.csv', \n",
    "                      header=None, \n",
    "                      names=['player_id', 'first_name', 'last_name', 'hand', 'birthday','country_code'])"
   ]
  },
  {
   "cell_type": "code",
   "execution_count": 114,
   "metadata": {},
   "outputs": [
    {
     "data": {
      "text/html": [
       "<div>\n",
       "<style scoped>\n",
       "    .dataframe tbody tr th:only-of-type {\n",
       "        vertical-align: middle;\n",
       "    }\n",
       "\n",
       "    .dataframe tbody tr th {\n",
       "        vertical-align: top;\n",
       "    }\n",
       "\n",
       "    .dataframe thead th {\n",
       "        text-align: right;\n",
       "    }\n",
       "</style>\n",
       "<table border=\"1\" class=\"dataframe\">\n",
       "  <thead>\n",
       "    <tr style=\"text-align: right;\">\n",
       "      <th></th>\n",
       "      <th>player_id</th>\n",
       "      <th>first_name</th>\n",
       "      <th>last_name</th>\n",
       "      <th>hand</th>\n",
       "      <th>birthday</th>\n",
       "      <th>country_code</th>\n",
       "    </tr>\n",
       "  </thead>\n",
       "  <tbody>\n",
       "    <tr>\n",
       "      <td>0</td>\n",
       "      <td>100001</td>\n",
       "      <td>Gardnar</td>\n",
       "      <td>Mulloy</td>\n",
       "      <td>R</td>\n",
       "      <td>19131122.0</td>\n",
       "      <td>USA</td>\n",
       "    </tr>\n",
       "    <tr>\n",
       "      <td>1</td>\n",
       "      <td>100002</td>\n",
       "      <td>Pancho</td>\n",
       "      <td>Segura</td>\n",
       "      <td>R</td>\n",
       "      <td>19210620.0</td>\n",
       "      <td>ECU</td>\n",
       "    </tr>\n",
       "    <tr>\n",
       "      <td>2</td>\n",
       "      <td>100003</td>\n",
       "      <td>Frank</td>\n",
       "      <td>Sedgman</td>\n",
       "      <td>R</td>\n",
       "      <td>19271002.0</td>\n",
       "      <td>AUS</td>\n",
       "    </tr>\n",
       "    <tr>\n",
       "      <td>3</td>\n",
       "      <td>100004</td>\n",
       "      <td>Giuseppe</td>\n",
       "      <td>Merlo</td>\n",
       "      <td>R</td>\n",
       "      <td>19271011.0</td>\n",
       "      <td>ITA</td>\n",
       "    </tr>\n",
       "    <tr>\n",
       "      <td>4</td>\n",
       "      <td>100005</td>\n",
       "      <td>Richard Pancho</td>\n",
       "      <td>Gonzales</td>\n",
       "      <td>R</td>\n",
       "      <td>19280509.0</td>\n",
       "      <td>USA</td>\n",
       "    </tr>\n",
       "    <tr>\n",
       "      <td>...</td>\n",
       "      <td>...</td>\n",
       "      <td>...</td>\n",
       "      <td>...</td>\n",
       "      <td>...</td>\n",
       "      <td>...</td>\n",
       "      <td>...</td>\n",
       "    </tr>\n",
       "    <tr>\n",
       "      <td>54892</td>\n",
       "      <td>209858</td>\n",
       "      <td>Vladimir</td>\n",
       "      <td>Osminkin</td>\n",
       "      <td>U</td>\n",
       "      <td>NaN</td>\n",
       "      <td>RUS</td>\n",
       "    </tr>\n",
       "    <tr>\n",
       "      <td>54893</td>\n",
       "      <td>209859</td>\n",
       "      <td>Rostislav</td>\n",
       "      <td>Galfinger</td>\n",
       "      <td>U</td>\n",
       "      <td>20021112.0</td>\n",
       "      <td>KAZ</td>\n",
       "    </tr>\n",
       "    <tr>\n",
       "      <td>54894</td>\n",
       "      <td>209860</td>\n",
       "      <td>Ignacio</td>\n",
       "      <td>Buse</td>\n",
       "      <td>U</td>\n",
       "      <td>20040325.0</td>\n",
       "      <td>PER</td>\n",
       "    </tr>\n",
       "    <tr>\n",
       "      <td>54895</td>\n",
       "      <td>209861</td>\n",
       "      <td>Maj</td>\n",
       "      <td>Tomac</td>\n",
       "      <td>U</td>\n",
       "      <td>20010504.0</td>\n",
       "      <td>SLO</td>\n",
       "    </tr>\n",
       "    <tr>\n",
       "      <td>54896</td>\n",
       "      <td>209862</td>\n",
       "      <td>Marco</td>\n",
       "      <td>Franzini</td>\n",
       "      <td>U</td>\n",
       "      <td>20010312.0</td>\n",
       "      <td>ITA</td>\n",
       "    </tr>\n",
       "  </tbody>\n",
       "</table>\n",
       "<p>54897 rows × 6 columns</p>\n",
       "</div>"
      ],
      "text/plain": [
       "       player_id      first_name  last_name hand    birthday country_code\n",
       "0         100001         Gardnar     Mulloy    R  19131122.0          USA\n",
       "1         100002          Pancho     Segura    R  19210620.0          ECU\n",
       "2         100003           Frank    Sedgman    R  19271002.0          AUS\n",
       "3         100004        Giuseppe      Merlo    R  19271011.0          ITA\n",
       "4         100005  Richard Pancho   Gonzales    R  19280509.0          USA\n",
       "...          ...             ...        ...  ...         ...          ...\n",
       "54892     209858        Vladimir   Osminkin    U         NaN          RUS\n",
       "54893     209859       Rostislav  Galfinger    U  20021112.0          KAZ\n",
       "54894     209860         Ignacio       Buse    U  20040325.0          PER\n",
       "54895     209861             Maj      Tomac    U  20010504.0          SLO\n",
       "54896     209862           Marco   Franzini    U  20010312.0          ITA\n",
       "\n",
       "[54897 rows x 6 columns]"
      ]
     },
     "execution_count": 114,
     "metadata": {},
     "output_type": "execute_result"
    }
   ],
   "source": [
    "players"
   ]
  },
  {
   "cell_type": "code",
   "execution_count": null,
   "metadata": {},
   "outputs": [],
   "source": []
  },
  {
   "cell_type": "code",
   "execution_count": 288,
   "metadata": {},
   "outputs": [],
   "source": [
    "df = pd.read_csv('/home/ryan/ml/tennis_ml/tennis_atp/atp_matches_2019.csv')"
   ]
  },
  {
   "cell_type": "code",
   "execution_count": 289,
   "metadata": {
    "scrolled": true
   },
   "outputs": [
    {
     "data": {
      "text/plain": [
       "['tourney_id',\n",
       " 'tourney_name',\n",
       " 'surface',\n",
       " 'draw_size',\n",
       " 'tourney_level',\n",
       " 'tourney_date',\n",
       " 'match_num',\n",
       " 'winner_id',\n",
       " 'winner_seed',\n",
       " 'winner_entry',\n",
       " 'winner_name',\n",
       " 'winner_hand',\n",
       " 'winner_ht',\n",
       " 'winner_ioc',\n",
       " 'winner_age',\n",
       " 'loser_id',\n",
       " 'loser_seed',\n",
       " 'loser_entry',\n",
       " 'loser_name',\n",
       " 'loser_hand',\n",
       " 'loser_ht',\n",
       " 'loser_ioc',\n",
       " 'loser_age',\n",
       " 'score',\n",
       " 'best_of',\n",
       " 'round',\n",
       " 'minutes',\n",
       " 'w_ace',\n",
       " 'w_df',\n",
       " 'w_svpt',\n",
       " 'w_1stIn',\n",
       " 'w_1stWon',\n",
       " 'w_2ndWon',\n",
       " 'w_SvGms',\n",
       " 'w_bpSaved',\n",
       " 'w_bpFaced',\n",
       " 'l_ace',\n",
       " 'l_df',\n",
       " 'l_svpt',\n",
       " 'l_1stIn',\n",
       " 'l_1stWon',\n",
       " 'l_2ndWon',\n",
       " 'l_SvGms',\n",
       " 'l_bpSaved',\n",
       " 'l_bpFaced',\n",
       " 'winner_rank',\n",
       " 'winner_rank_points',\n",
       " 'loser_rank',\n",
       " 'loser_rank_points']"
      ]
     },
     "execution_count": 289,
     "metadata": {},
     "output_type": "execute_result"
    }
   ],
   "source": [
    "list(df.columns.values)"
   ]
  },
  {
   "cell_type": "code",
   "execution_count": 290,
   "metadata": {
    "scrolled": true
   },
   "outputs": [
    {
     "data": {
      "text/plain": [
       "array([105453, 106421, 104542, 104871, 200282, 105683, 106034, 105777,\n",
       "       111442, 104918, 200175, 106401, 105357, 106045, 105138, 104607,\n",
       "       104925, 106065, 105932, 104527, 105583, 105732, 105916, 126094,\n",
       "       111797, 104198, 105575, 105550, 104269, 109739, 104731, 103333,\n",
       "       104468, 104327, 144719, 105332, 104291, 105208, 111513, 104620,\n",
       "       125802, 106210, 111581, 106368, 105539, 105815, 111815, 105526,\n",
       "       104259, 126203, 105807, 104919, 104926, 105311, 103970, 104907,\n",
       "       126610, 200005, 105376, 104312, 106043, 126774, 106415, 105819,\n",
       "       105373, 105023, 124187, 106121, 133430, 105676, 105657, 105992,\n",
       "       100644, 106109, 111202, 106432, 105936, 106298, 200615, 106233,\n",
       "       105227, 111456, 105430, 111575, 104678, 105882, 104792, 105554,\n",
       "       103819, 126207, 104655, 105341, 104898, 105967, 105051, 104745,\n",
       "       106228, 105643, 105379, 106398, 105561, 105077, 132283, 106148,\n",
       "       104571, 126156, 104719, 120424, 104978, 105062, 106426, 111790,\n",
       "       104545, 103893, 105359, 106071, 111153, 104797, 106000, 134868,\n",
       "       105223, 105449, 105173, 144750, 105041, 104660, 104897, 128034,\n",
       "       106296, 200000, 134770, 106198, 106329, 103852, 106078, 105477,\n",
       "       205734, 106378, 105432, 106218, 106216, 111577, 104386, 104999,\n",
       "       122330, 104665, 123755, 105053, 104629, 200095, 105226, 206173,\n",
       "       200221, 106249, 200484, 104755, 106137, 105731, 144895, 106099,\n",
       "       200611, 144707, 103917, 106214, 104460, 105614, 123795, 105906,\n",
       "       136440, 126652, 111200, 110602, 111794, 105487, 126120, 126952,\n",
       "       110536, 105649, 126237, 124116, 106075, 106423, 105613, 126205,\n",
       "       117360, 105065, 117353, 202385, 105577, 105842, 111190, 104424,\n",
       "       110748, 200553, 104586, 105216, 126149, 105985, 105497, 105877,\n",
       "       105933, 201995, 106227, 122109, 133975, 127300, 200325, 207797,\n",
       "       105806, 105757, 105413, 105436, 108739, 105156, 105688, 106412,\n",
       "       122669, 105656, 126190, 208055, 144650, 209188, 207139, 106397,\n",
       "       200460, 126555, 202358, 117356, 208029, 105633, 104467, 105827,\n",
       "       106223, 111761, 106021, 202262, 106220, 202475, 106293, 104810,\n",
       "       105292, 105902, 122570, 111459, 105155, 106283, 104563, 106058,\n",
       "       105163, 105147, 106186, 104122, 105074, 200247, 202090, 104297,\n",
       "       202103, 111511, 105166, 200368, 105015, 133297, 106005, 126204,\n",
       "       105943, 207182, 124079, 106203, 105385, 106353, 200031, 200218,\n",
       "       111795, 109640, 126523, 126125, 105641, 124186, 111460, 106072,\n",
       "       105870, 105217, 200514, 105634, 121531, 104868, 144985, 111574,\n",
       "       206703, 105063, 106032, 202400, 105091, 103990, 144817, 109699,\n",
       "       111576, 127157, 111192, 111515, 111453, 104804, 106031, 208260,\n",
       "       104735, 124014, 144946, 104970, 104534, 105339, 105585, 208230,\n",
       "       144984, 105254, 127339, 122298, 110778, 104656, 106232, 105899,\n",
       "       200526, 105334, 200273, 126939, 126609, 105349, 105493, 105011,\n",
       "       122548, 131951, 209238, 132932, 137018, 134677, 209226, 108763,\n",
       "       208476, 207134, 105812, 106150, 202165, 208937, 208597, 106388,\n",
       "       207852, 144841, 105747, 125842, 144760, 126340, 106106, 105626,\n",
       "       200250, 105434, 126328, 123983, 105963, 106110, 208103, 200436,\n",
       "       105954, 121896, 200343, 200059])"
      ]
     },
     "execution_count": 290,
     "metadata": {},
     "output_type": "execute_result"
    }
   ],
   "source": [
    "#unique ids in the csv\n",
    "ids = pd.concat([df['winner_id'], df['loser_id']]).unique()\n",
    "ids"
   ]
  },
  {
   "cell_type": "code",
   "execution_count": null,
   "metadata": {
    "scrolled": true
   },
   "outputs": [
    {
     "data": {
      "application/vnd.jupyter.widget-view+json": {
       "model_id": "8f33eb3de27b4067b38d525f5d38132c",
       "version_major": 2,
       "version_minor": 0
      },
      "text/plain": [
       "HBox(children=(IntProgress(value=0, max=364), HTML(value='')))"
      ]
     },
     "metadata": {},
     "output_type": "display_data"
    },
    {
     "name": "stderr",
     "output_type": "stream",
     "text": [
      "/home/ryan/.conda/envs/tf-gpu/lib/python3.7/site-packages/ipykernel_launcher.py:56: RuntimeWarning: Mean of empty slice.\n",
      "/home/ryan/.conda/envs/tf-gpu/lib/python3.7/site-packages/ipykernel_launcher.py:61: RuntimeWarning: Mean of empty slice.\n",
      "/home/ryan/.conda/envs/tf-gpu/lib/python3.7/site-packages/ipykernel_launcher.py:59: RuntimeWarning: divide by zero encountered in true_divide\n",
      "/home/ryan/.conda/envs/tf-gpu/lib/python3.7/site-packages/ipykernel_launcher.py:64: RuntimeWarning: divide by zero encountered in true_divide\n",
      "/home/ryan/.conda/envs/tf-gpu/lib/python3.7/site-packages/ipykernel_launcher.py:59: RuntimeWarning: invalid value encountered in true_divide\n"
     ]
    }
   ],
   "source": [
    "###iterate through player ids and collect features\n",
    "\n",
    "#instantiate a new dictionary to keep track of player stats\n",
    "#this will be useful for diffing them later to create input-target pairs\n",
    "pid_dict = {}\n",
    "    \n",
    "for target_pid in tqdm_notebook(ids):\n",
    "    ### get features from whether the target player won or lost\n",
    "    df2 = df[(df.loc[:,'winner_id'] == target_pid ) | (df.loc[:,'loser_id'] == target_pid)]\n",
    "\n",
    "    ###create target column here\n",
    "    y = [1 if pid==target_pid else 0 for pid in df2.winner_id.values]\n",
    "    y = pd.DataFrame(data=y, columns=['target'])\n",
    "\n",
    "    ###switch up the dataframe to account for losses since after \n",
    "    ###taking target into account, we dont care about winner/loser specific columns\n",
    "    # swapped_features = ['ace', 'df', 'svpt', '1stIn', '1stWon', '2ndWon', 'SvGms', 'bpSaved', 'bpFaced']\n",
    "    swapped_features = ['ace', 'df']\n",
    "    for swapFeat in swapped_features:\n",
    "        df2.loc[(y.target.values == 0), f'w_{swapFeat}'] = df2.loc[(y.target.values == 0), f'l_{swapFeat}']\n",
    "\n",
    "    ### sort by tournament date and match number so features are sequential/time-dependant\n",
    "    df2 = df2.sort_values(['tourney_date', 'match_num'], ascending=[True, True])\n",
    "\n",
    "    ###extract stats from features\n",
    "    segments = df2.shape[0]\n",
    "    # features = ['w_ace', 'w_df', 'w_svpt', 'w_1stIn', 'w_1stWon', 'w_2ndWon', 'w_SvGms', 'w_bpSaved', 'w_bpFaced']\n",
    "    features = ['w_ace', 'w_df']\n",
    "    x_tr = extract_stats(df2, segments, features)\n",
    "\n",
    "    df2.reset_index(drop=True, inplace=True)\n",
    "    x_tr.reset_index(drop=True, inplace=True)\n",
    "    y.reset_index(drop=True, inplace=True)\n",
    "\n",
    "    x_tr = pd.concat([df2['tourney_date'], df2['match_num'], y['target'], x_tr], axis=1)\n",
    "\n",
    "    # ### save to dictionary by PID\n",
    "    pid_dict.update({f'{target_pid}' : x_tr})"
   ]
  },
  {
   "cell_type": "code",
   "execution_count": null,
   "metadata": {},
   "outputs": [],
   "source": [
    "len(pid_dict)"
   ]
  },
  {
   "cell_type": "code",
   "execution_count": 226,
   "metadata": {},
   "outputs": [
    {
     "name": "stdout",
     "output_type": "stream",
     "text": [
      "(5562, 31)\n"
     ]
    },
    {
     "data": {
      "application/vnd.jupyter.widget-view+json": {
       "model_id": "5c4f7c568da447c2b9c453273115fd22",
       "version_major": 2,
       "version_minor": 0
      },
      "text/plain": [
       "HBox(children=(IntProgress(value=1, bar_style='info', max=1), HTML(value='')))"
      ]
     },
     "metadata": {},
     "output_type": "display_data"
    },
    {
     "name": "stdout",
     "output_type": "stream",
     "text": [
      "\n"
     ]
    }
   ],
   "source": [
    "### now iterate throught the main dataframe to link up player-ids\n",
    "### and pull information from the respective dictionary index to form input-target pairs\n",
    "x_data = np.empty(shape=(int(df.shape[0]*2), 31))\n",
    "y_data = np.empty(shape=(int(df.shape[0]*2), 1))\n",
    "print(x_data.shape)\n",
    "\n",
    "### get features from whether the target player won or lost\n",
    "df = df.sort_values(['tourney_date', 'match_num'], ascending=[True, True])\n",
    "\n",
    "j = 0\n",
    "\n",
    "for winner_id, loser_id, tdate, match_num in tqdm_notebook(zip(df.winner_id.values, df.loser_id.values, df.tourney_date.values, df.match_num.values)):\n",
    "\n",
    "    #extract features from player maps\n",
    "    features_w = np.asarray(pid_dict[f'{winner_id}'].loc[(pid_dict[f'{winner_id}']['tourney_date'] == tdate) & (pid_dict[f'{winner_id}']['match_num'] == match_num)].loc[:, 'ace_mean':])\n",
    "    features_l = np.asarray(pid_dict[f'{loser_id}'].loc[(pid_dict[f'{loser_id}']['tourney_date'] == tdate) & (pid_dict[f'{loser_id}']['match_num'] == match_num)].loc[:, 'ace_mean':])\n",
    "\n",
    "    #diff the features from winner to loser and count as a win\n",
    "    x_data[j,:] = features_w - features_l\n",
    "    y_data[j,0] = 1.0\n",
    "    \n",
    "    #diff the features from loser to winner and count as a loss\n",
    "    x_data[j+1,:] = features_l - features_w\n",
    "    y_data[j+1,0] = 0.0\n",
    "        \n",
    "    #increment counter\n",
    "    j+=2\n",
    "    \n",
    "    \n",
    "    "
   ]
  },
  {
   "cell_type": "code",
   "execution_count": 227,
   "metadata": {},
   "outputs": [
    {
     "data": {
      "text/plain": [
       "(5562, 31)"
      ]
     },
     "execution_count": 227,
     "metadata": {},
     "output_type": "execute_result"
    }
   ],
   "source": [
    "x_data.shape"
   ]
  },
  {
   "cell_type": "code",
   "execution_count": null,
   "metadata": {},
   "outputs": [],
   "source": []
  },
  {
   "cell_type": "code",
   "execution_count": null,
   "metadata": {},
   "outputs": [],
   "source": []
  },
  {
   "cell_type": "code",
   "execution_count": 293,
   "metadata": {},
   "outputs": [],
   "source": [
    "def extract_stats(df, segments, features):\n",
    "\n",
    "    #main dataframe for storing stats\n",
    "    X_tr = pd.DataFrame(index=range(segments), dtype=np.float64)\n",
    "    \n",
    "    for feature in features:\n",
    "    \n",
    "        #time series data\n",
    "        x_full = pd.Series(df[f'{feature}'].values)\n",
    "        feature_name = feature[2:]\n",
    "    \n",
    "        for segment in range(segments):\n",
    "            #take all of x until that point in time\n",
    "            x = x_full[:segment+1]\n",
    "            \n",
    "            #compute stats on this feature\n",
    "            X_tr.loc[segment, f'{feature_name}_mean'] = x.mean()\n",
    "            X_tr.loc[segment, f'{feature_name}_std'] = x.std()\n",
    "            X_tr.loc[segment, f'{feature_name}_max'] = x.max()\n",
    "            X_tr.loc[segment, f'{feature_name}_min'] = x.min()\n",
    "\n",
    "            X_tr.loc[segment, f'{feature_name}_mean_change_abs'] = np.mean(np.diff(x))\n",
    "            X_tr.loc[segment, f'{feature_name}_abs_max'] = np.abs(x).max()\n",
    "            X_tr.loc[segment, f'{feature_name}_abs_min'] = np.abs(x).min()\n",
    "\n",
    "            X_tr.loc[segment, 'max_to_min_diff'] = x.max() - np.abs(x.min())\n",
    "            X_tr.loc[segment, 'sum'] = x.sum()\n",
    "\n",
    "            X_tr.loc[segment, 'q95'] = np.quantile(x, 0.95)\n",
    "            X_tr.loc[segment, 'q99'] = np.quantile(x, 0.99)\n",
    "            X_tr.loc[segment, 'q05'] = np.quantile(x, 0.05)\n",
    "            X_tr.loc[segment, 'q01'] = np.quantile(x, 0.01)\n",
    "\n",
    "#             X_tr.loc[segment, 'abs_q95'] = np.quantile(np.abs(x), 0.95)\n",
    "#             X_tr.loc[segment, 'abs_q99'] = np.quantile(np.abs(x), 0.99)\n",
    "#             X_tr.loc[segment, 'abs_q05'] = np.quantile(np.abs(x), 0.05)\n",
    "#             X_tr.loc[segment, 'abs_q01'] = np.quantile(np.abs(x), 0.01)\n",
    "\n",
    "#########################\n",
    "        #     X_tr.loc[segment, 'trend'] = add_trend_feature(x)\n",
    "        #     X_tr.loc[segment, 'abs_trend'] = add_trend_feature(x, abs_values=True)\n",
    "        #     X_tr.loc[segment, 'abs_mean'] = np.abs(x).mean()\n",
    "        #     X_tr.loc[segment, 'abs_std'] = np.abs(x).std()\n",
    "#######################\n",
    "#             X_tr.loc[segment, 'mad'] = x.mad()\n",
    "#             X_tr.loc[segment, 'kurt'] = x.kurtosis()\n",
    "#             X_tr.loc[segment, 'skew'] = x.skew()\n",
    "#             X_tr.loc[segment, 'med'] = x.median()\n",
    "\n",
    "            #rolling stats\n",
    "#             for windows in [2, 4, 6, 8, 10, 12, 14, 16, 20, 25]:\n",
    "            for windows in [2, 4, 6]:\n",
    "                x_roll_std = x.rolling(windows).std().dropna().values\n",
    "                x_roll_mean = x.rolling(windows).mean().dropna().values\n",
    "\n",
    "                X_tr.loc[segment, f'{feature_name}_ave_roll_std_' + str(windows)] = x_roll_std.mean()\n",
    "                X_tr.loc[segment, f'{feature_name}_std_roll_std_' + str(windows)] = x_roll_std.std()\n",
    "                X_tr.loc[segment, f'{feature_name}_av_change_abs_roll_std_' + str(windows)] = np.mean(np.diff(x_roll_std))\n",
    "                X_tr.loc[segment, f'{feature_name}_av_change_rate_roll_std_' + str(windows)] = np.mean(np.nonzero((np.diff(x_roll_std) / x_roll_std[:-1]))[0])\n",
    "\n",
    "                X_tr.loc[segment, f'{feature_name}_ave_roll_mean_' + str(windows)] = x_roll_mean.mean()\n",
    "                X_tr.loc[segment, f'{feature_name}_std_roll_mean_' + str(windows)] = x_roll_mean.std()\n",
    "                X_tr.loc[segment, f'{feature_name}_av_change_abs_roll_mean_' + str(windows)] = np.mean(np.diff(x_roll_mean))\n",
    "                X_tr.loc[segment, f'{feature_name}_av_change_rate_roll_mean_' + str(windows)] = np.mean(np.nonzero((np.diff(x_roll_mean) / x_roll_mean[:-1]))[0])\n",
    "                \n",
    "    #fill all NaN values with 0\n",
    "    X_tr = X_tr.fillna(value=0.0)\n",
    "    \n",
    "    return X_tr"
   ]
  },
  {
   "cell_type": "code",
   "execution_count": null,
   "metadata": {},
   "outputs": [],
   "source": []
  },
  {
   "cell_type": "code",
   "execution_count": null,
   "metadata": {},
   "outputs": [],
   "source": []
  },
  {
   "cell_type": "code",
   "execution_count": null,
   "metadata": {},
   "outputs": [],
   "source": []
  },
  {
   "cell_type": "markdown",
   "metadata": {},
   "source": [
    "## LGB Model developement"
   ]
  },
  {
   "cell_type": "code",
   "execution_count": null,
   "metadata": {},
   "outputs": [],
   "source": [
    "# using LGBM lib here\n",
    "# link to original work: https://papers.nips.cc/paper/6907-lightgbm-a-highly-efficient-gradient-boosting-decision-tree.pdf"
   ]
  },
  {
   "cell_type": "code",
   "execution_count": 282,
   "metadata": {},
   "outputs": [],
   "source": [
    "from sklearn.model_selection import train_test_split\n",
    "\n",
    "from sklearn import svm, datasets\n",
    "from sklearn.metrics import roc_curve, auc\n",
    "from sklearn.model_selection import train_test_split\n",
    "from sklearn.preprocessing import label_binarize\n",
    "from sklearn.multiclass import OneVsRestClassifier\n",
    "from scipy import interp\n",
    "from sklearn.metrics import roc_auc_score, accuracy_score"
   ]
  },
  {
   "cell_type": "code",
   "execution_count": 241,
   "metadata": {},
   "outputs": [],
   "source": [
    "X_train, X_test, y_train, y_test = train_test_split(x_data, y_data, test_size=0.33, random_state=7)"
   ]
  },
  {
   "cell_type": "code",
   "execution_count": 284,
   "metadata": {
    "scrolled": true
   },
   "outputs": [
    {
     "name": "stderr",
     "output_type": "stream",
     "text": [
      "/home/ryan/.conda/envs/tf-gpu/lib/python3.7/site-packages/sklearn/preprocessing/label.py:252: DataConversionWarning: A column-vector y was passed when a 1d array was expected. Please change the shape of y to (n_samples, ), for example using ravel().\n",
      "  y = column_or_1d(y, warn=True)\n"
     ]
    },
    {
     "name": "stdout",
     "output_type": "stream",
     "text": [
      "[1]\tvalid_0's binary_logloss: 0.692877\tvalid_1's binary_logloss: 0.693928\n",
      "[2]\tvalid_0's binary_logloss: 0.692774\tvalid_1's binary_logloss: 0.693868\n",
      "[3]\tvalid_0's binary_logloss: 0.692671\tvalid_1's binary_logloss: 0.693808\n",
      "[4]\tvalid_0's binary_logloss: 0.692569\tvalid_1's binary_logloss: 0.693747\n",
      "[5]\tvalid_0's binary_logloss: 0.692466\tvalid_1's binary_logloss: 0.693686\n",
      "[6]\tvalid_0's binary_logloss: 0.692365\tvalid_1's binary_logloss: 0.693626\n",
      "[7]\tvalid_0's binary_logloss: 0.692265\tvalid_1's binary_logloss: 0.693566\n",
      "[8]\tvalid_0's binary_logloss: 0.692164\tvalid_1's binary_logloss: 0.693507\n",
      "[9]\tvalid_0's binary_logloss: 0.692064\tvalid_1's binary_logloss: 0.693447\n",
      "[10]\tvalid_0's binary_logloss: 0.691964\tvalid_1's binary_logloss: 0.693389\n",
      "[11]\tvalid_0's binary_logloss: 0.691855\tvalid_1's binary_logloss: 0.693343\n",
      "[12]\tvalid_0's binary_logloss: 0.691746\tvalid_1's binary_logloss: 0.693297\n",
      "[13]\tvalid_0's binary_logloss: 0.691637\tvalid_1's binary_logloss: 0.693251\n",
      "[14]\tvalid_0's binary_logloss: 0.691528\tvalid_1's binary_logloss: 0.693206\n",
      "[15]\tvalid_0's binary_logloss: 0.69142\tvalid_1's binary_logloss: 0.693161\n",
      "[16]\tvalid_0's binary_logloss: 0.691325\tvalid_1's binary_logloss: 0.693112\n",
      "[17]\tvalid_0's binary_logloss: 0.69123\tvalid_1's binary_logloss: 0.693064\n",
      "[18]\tvalid_0's binary_logloss: 0.691135\tvalid_1's binary_logloss: 0.693015\n",
      "[19]\tvalid_0's binary_logloss: 0.69104\tvalid_1's binary_logloss: 0.692967\n",
      "[20]\tvalid_0's binary_logloss: 0.690945\tvalid_1's binary_logloss: 0.692919\n",
      "[21]\tvalid_0's binary_logloss: 0.690845\tvalid_1's binary_logloss: 0.69287\n",
      "[22]\tvalid_0's binary_logloss: 0.690746\tvalid_1's binary_logloss: 0.69282\n",
      "[23]\tvalid_0's binary_logloss: 0.690646\tvalid_1's binary_logloss: 0.692771\n",
      "[24]\tvalid_0's binary_logloss: 0.690547\tvalid_1's binary_logloss: 0.692721\n",
      "[25]\tvalid_0's binary_logloss: 0.690447\tvalid_1's binary_logloss: 0.692672\n",
      "[26]\tvalid_0's binary_logloss: 0.690347\tvalid_1's binary_logloss: 0.692615\n",
      "[27]\tvalid_0's binary_logloss: 0.690246\tvalid_1's binary_logloss: 0.692559\n",
      "[28]\tvalid_0's binary_logloss: 0.690145\tvalid_1's binary_logloss: 0.692502\n",
      "[29]\tvalid_0's binary_logloss: 0.690045\tvalid_1's binary_logloss: 0.692445\n",
      "[30]\tvalid_0's binary_logloss: 0.689945\tvalid_1's binary_logloss: 0.692389\n",
      "[31]\tvalid_0's binary_logloss: 0.689838\tvalid_1's binary_logloss: 0.692327\n",
      "[32]\tvalid_0's binary_logloss: 0.689731\tvalid_1's binary_logloss: 0.692264\n",
      "[33]\tvalid_0's binary_logloss: 0.689624\tvalid_1's binary_logloss: 0.692202\n",
      "[34]\tvalid_0's binary_logloss: 0.689517\tvalid_1's binary_logloss: 0.69214\n",
      "[35]\tvalid_0's binary_logloss: 0.689411\tvalid_1's binary_logloss: 0.692079\n",
      "[36]\tvalid_0's binary_logloss: 0.689309\tvalid_1's binary_logloss: 0.692018\n",
      "[37]\tvalid_0's binary_logloss: 0.689207\tvalid_1's binary_logloss: 0.691957\n",
      "[38]\tvalid_0's binary_logloss: 0.689105\tvalid_1's binary_logloss: 0.691896\n",
      "[39]\tvalid_0's binary_logloss: 0.689004\tvalid_1's binary_logloss: 0.691835\n",
      "[40]\tvalid_0's binary_logloss: 0.688902\tvalid_1's binary_logloss: 0.691774\n",
      "[41]\tvalid_0's binary_logloss: 0.688808\tvalid_1's binary_logloss: 0.691728\n",
      "[42]\tvalid_0's binary_logloss: 0.688714\tvalid_1's binary_logloss: 0.691683\n",
      "[43]\tvalid_0's binary_logloss: 0.68862\tvalid_1's binary_logloss: 0.691638\n",
      "[44]\tvalid_0's binary_logloss: 0.688526\tvalid_1's binary_logloss: 0.691592\n",
      "[45]\tvalid_0's binary_logloss: 0.688432\tvalid_1's binary_logloss: 0.691548\n",
      "[46]\tvalid_0's binary_logloss: 0.688336\tvalid_1's binary_logloss: 0.691493\n",
      "[47]\tvalid_0's binary_logloss: 0.68824\tvalid_1's binary_logloss: 0.691439\n",
      "[48]\tvalid_0's binary_logloss: 0.688145\tvalid_1's binary_logloss: 0.691384\n",
      "[49]\tvalid_0's binary_logloss: 0.68805\tvalid_1's binary_logloss: 0.69133\n",
      "[50]\tvalid_0's binary_logloss: 0.687955\tvalid_1's binary_logloss: 0.691276\n",
      "[51]\tvalid_0's binary_logloss: 0.687858\tvalid_1's binary_logloss: 0.691217\n",
      "[52]\tvalid_0's binary_logloss: 0.687759\tvalid_1's binary_logloss: 0.691156\n",
      "[53]\tvalid_0's binary_logloss: 0.687663\tvalid_1's binary_logloss: 0.691097\n",
      "[54]\tvalid_0's binary_logloss: 0.687565\tvalid_1's binary_logloss: 0.691035\n",
      "[55]\tvalid_0's binary_logloss: 0.687469\tvalid_1's binary_logloss: 0.690977\n",
      "[56]\tvalid_0's binary_logloss: 0.687366\tvalid_1's binary_logloss: 0.690931\n",
      "[57]\tvalid_0's binary_logloss: 0.687263\tvalid_1's binary_logloss: 0.690885\n",
      "[58]\tvalid_0's binary_logloss: 0.687161\tvalid_1's binary_logloss: 0.69084\n",
      "[59]\tvalid_0's binary_logloss: 0.687058\tvalid_1's binary_logloss: 0.690794\n",
      "[60]\tvalid_0's binary_logloss: 0.686956\tvalid_1's binary_logloss: 0.690749\n",
      "[61]\tvalid_0's binary_logloss: 0.686861\tvalid_1's binary_logloss: 0.690697\n",
      "[62]\tvalid_0's binary_logloss: 0.686766\tvalid_1's binary_logloss: 0.690646\n",
      "[63]\tvalid_0's binary_logloss: 0.686672\tvalid_1's binary_logloss: 0.690594\n",
      "[64]\tvalid_0's binary_logloss: 0.686578\tvalid_1's binary_logloss: 0.690543\n",
      "[65]\tvalid_0's binary_logloss: 0.686485\tvalid_1's binary_logloss: 0.690493\n",
      "[66]\tvalid_0's binary_logloss: 0.686388\tvalid_1's binary_logloss: 0.690439\n",
      "[67]\tvalid_0's binary_logloss: 0.686291\tvalid_1's binary_logloss: 0.690385\n",
      "[68]\tvalid_0's binary_logloss: 0.686194\tvalid_1's binary_logloss: 0.690333\n",
      "[69]\tvalid_0's binary_logloss: 0.686102\tvalid_1's binary_logloss: 0.690282\n",
      "[70]\tvalid_0's binary_logloss: 0.686007\tvalid_1's binary_logloss: 0.69023\n",
      "[71]\tvalid_0's binary_logloss: 0.685913\tvalid_1's binary_logloss: 0.690185\n",
      "[72]\tvalid_0's binary_logloss: 0.685819\tvalid_1's binary_logloss: 0.690141\n",
      "[73]\tvalid_0's binary_logloss: 0.685726\tvalid_1's binary_logloss: 0.690096\n",
      "[74]\tvalid_0's binary_logloss: 0.685632\tvalid_1's binary_logloss: 0.690052\n",
      "[75]\tvalid_0's binary_logloss: 0.685541\tvalid_1's binary_logloss: 0.690005\n",
      "[76]\tvalid_0's binary_logloss: 0.685449\tvalid_1's binary_logloss: 0.689956\n",
      "[77]\tvalid_0's binary_logloss: 0.685356\tvalid_1's binary_logloss: 0.689907\n",
      "[78]\tvalid_0's binary_logloss: 0.685264\tvalid_1's binary_logloss: 0.689858\n",
      "[79]\tvalid_0's binary_logloss: 0.685173\tvalid_1's binary_logloss: 0.689809\n",
      "[80]\tvalid_0's binary_logloss: 0.685081\tvalid_1's binary_logloss: 0.68976\n",
      "[81]\tvalid_0's binary_logloss: 0.684985\tvalid_1's binary_logloss: 0.689699\n",
      "[82]\tvalid_0's binary_logloss: 0.684889\tvalid_1's binary_logloss: 0.689638\n",
      "[83]\tvalid_0's binary_logloss: 0.684793\tvalid_1's binary_logloss: 0.689577\n",
      "[84]\tvalid_0's binary_logloss: 0.684697\tvalid_1's binary_logloss: 0.689516\n",
      "[85]\tvalid_0's binary_logloss: 0.684601\tvalid_1's binary_logloss: 0.689456\n",
      "[86]\tvalid_0's binary_logloss: 0.684507\tvalid_1's binary_logloss: 0.689401\n",
      "[87]\tvalid_0's binary_logloss: 0.684412\tvalid_1's binary_logloss: 0.689346\n",
      "[88]\tvalid_0's binary_logloss: 0.684318\tvalid_1's binary_logloss: 0.689291\n",
      "[89]\tvalid_0's binary_logloss: 0.684224\tvalid_1's binary_logloss: 0.689237\n",
      "[90]\tvalid_0's binary_logloss: 0.684131\tvalid_1's binary_logloss: 0.689182\n",
      "[91]\tvalid_0's binary_logloss: 0.684037\tvalid_1's binary_logloss: 0.689134\n",
      "[92]\tvalid_0's binary_logloss: 0.683943\tvalid_1's binary_logloss: 0.689087\n",
      "[93]\tvalid_0's binary_logloss: 0.68385\tvalid_1's binary_logloss: 0.68904\n",
      "[94]\tvalid_0's binary_logloss: 0.683756\tvalid_1's binary_logloss: 0.688992\n",
      "[95]\tvalid_0's binary_logloss: 0.683663\tvalid_1's binary_logloss: 0.688945\n",
      "[96]\tvalid_0's binary_logloss: 0.683565\tvalid_1's binary_logloss: 0.688895\n",
      "[97]\tvalid_0's binary_logloss: 0.683466\tvalid_1's binary_logloss: 0.688844\n",
      "[98]\tvalid_0's binary_logloss: 0.683368\tvalid_1's binary_logloss: 0.688794\n",
      "[99]\tvalid_0's binary_logloss: 0.68327\tvalid_1's binary_logloss: 0.688744\n",
      "[100]\tvalid_0's binary_logloss: 0.683173\tvalid_1's binary_logloss: 0.688693\n"
     ]
    },
    {
     "data": {
      "text/plain": [
       "LGBMClassifier(bagging_fraction=0.8126672064208567, bagging_freq=5,\n",
       "               bagging_seed=11, boosting='gbdt', boosting_type='gbdt',\n",
       "               class_weight=None, colsample_bytree=1.0, importance_type='split',\n",
       "               learning_rate=0.001, max_depth=-1, min_child_samples=20,\n",
       "               min_child_weight=0.001, min_data_in_leaf=79, min_split_gain=0.0,\n",
       "               n_estimators=100, n_jobs=-1, num_leaves=128, objective='binary',\n",
       "               random_state=None, reg_alpha=0.1302650970728192,\n",
       "               reg_lambda=0.3603427518866501, silent=True, subsample=1.0,\n",
       "               subsample_for_bin=200000, subsample_freq=0, verbosity=-1)"
      ]
     },
     "execution_count": 284,
     "metadata": {},
     "output_type": "execute_result"
    }
   ],
   "source": [
    "params = {'num_leaves': 128,\n",
    "          'min_data_in_leaf': 79,\n",
    "          'max_depth': -1,\n",
    "          'learning_rate': 0.001,\n",
    "          \"boosting\": \"gbdt\",\n",
    "          \"bagging_freq\": 5,\n",
    "          \"bagging_fraction\": 0.8126672064208567,\n",
    "          \"bagging_seed\": 11,\n",
    "          \"verbosity\": -1,\n",
    "          'reg_alpha': 0.1302650970728192,\n",
    "          'reg_lambda': 0.3603427518866501}\n",
    "\n",
    "model = lgb.LGBMClassifier(**params,\n",
    "                           n_estimators = 100,\n",
    "                           n_jobs = -1, \n",
    "                           objective='binary')\n",
    "\n",
    "#fit on the k-fold\n",
    "model.fit(X_train, y_train[:,0],\n",
    "          eval_set=[(X_train, y_train), (X_test, y_test)],\n",
    "          verbose=True)"
   ]
  },
  {
   "cell_type": "code",
   "execution_count": 285,
   "metadata": {},
   "outputs": [],
   "source": [
    "y_pred = np.expand_dims(model.predict(X_test), -1)"
   ]
  },
  {
   "cell_type": "code",
   "execution_count": 286,
   "metadata": {},
   "outputs": [
    {
     "name": "stdout",
     "output_type": "stream",
     "text": [
      "0.5626361655773421\n"
     ]
    }
   ],
   "source": [
    "print(accuracy_score(y_test, y_pred))"
   ]
  },
  {
   "cell_type": "code",
   "execution_count": 281,
   "metadata": {},
   "outputs": [
    {
     "data": {
      "image/png": "[encoded data removed]",
      "text/plain": [
       "<Figure size 720x504 with 1 Axes>"
      ]
     },
     "metadata": {
      "needs_background": "light"
     },
     "output_type": "display_data"
    }
   ],
   "source": [
    "# Compute ROC curve and ROC area for each class\n",
    "fpr, tpr, _ = roc_curve(y_test[:, 0], y_pred[:, 0])\n",
    "roc_auc = auc(fpr, tpr)\n",
    "\n",
    "# Compute micro-average ROC curve and ROC area\n",
    "# fpr[\"micro\"], tpr[\"micro\"], _ = roc_curve(y_test.ravel(), y_pred.ravel())\n",
    "# roc_auc[\"micro\"] = auc(fpr[\"micro\"], tpr[\"micro\"])\n",
    "\n",
    "plt.figure(figsize=(10,7))\n",
    "lw = 2\n",
    "plt.plot(fpr, tpr, color='darkorange',lw=lw)\n",
    "plt.plot([0, 1], [0, 1], color='navy', lw=lw, linestyle='--')\n",
    "plt.xlim([0.0, 1.0])\n",
    "plt.ylim([0.0, 1.05])\n",
    "plt.xlabel('False Positive Rate')\n",
    "plt.ylabel('True Positive Rate')\n",
    "plt.title('Receiver operating characteristic example')\n",
    "plt.show()"
   ]
  },
  {
   "cell_type": "code",
   "execution_count": null,
   "metadata": {},
   "outputs": [],
   "source": []
  },
  {
   "cell_type": "code",
   "execution_count": null,
   "metadata": {},
   "outputs": [],
   "source": []
  },
  {
   "cell_type": "code",
   "execution_count": null,
   "metadata": {},
   "outputs": [],
   "source": []
  },
  {
   "cell_type": "code",
   "execution_count": null,
   "metadata": {},
   "outputs": [],
   "source": []
  },
  {
   "cell_type": "code",
   "execution_count": null,
   "metadata": {},
   "outputs": [],
   "source": [
    "n_fold = 5\n",
    "folds = KFold(n_splits=n_fold, shuffle=True, random_state=11)"
   ]
  },
  {
   "cell_type": "code",
   "execution_count": null,
   "metadata": {},
   "outputs": [],
   "source": [
    "def train_model(X=X_train_scaled, X_test=X_test_scaled, y=y_tr, params=None, folds=folds, model_type='lgb', plot_feature_importance=False, model=None):\n",
    "\n",
    "    oof = np.zeros(len(X))\n",
    "    prediction = np.zeros(len(X_test))\n",
    "    scores = []\n",
    "    feature_importance = pd.DataFrame()\n",
    "    \n",
    "    #begin k-fold cross validation\n",
    "    for fold_n, (train_index, valid_index) in enumerate(folds.split(X)):\n",
    "        print('Fold', fold_n, 'started at', time.ctime())\n",
    "        X_train, X_valid = X.iloc[train_index], X.iloc[valid_index]\n",
    "        y_train, y_valid = y.iloc[train_index], y.iloc[valid_index]\n",
    "        \n",
    "        #instantiate model\n",
    "        model = lgb.LGBMRegressor(**params,\n",
    "                                  n_estimators = 50000,\n",
    "                                  n_jobs = -1)\n",
    "        \n",
    "        #fit on the k-fold\n",
    "        model.fit(X_train, y_train,\n",
    "                  eval_set=[(X_train, y_train), (X_valid, y_valid)],\n",
    "                  eval_metric='mae',\n",
    "                  verbose=10000,\n",
    "                  early_stopping_rounds=200)\n",
    "        \n",
    "        #run inference on validation data\n",
    "        y_pred_valid = model.predict(X_valid)\n",
    "        \n",
    "        #run inference on hold-out test dataset\n",
    "        y_pred = model.predict(X_test, \n",
    "                               num_iteration=model.best_iteration_)\n",
    "                    \n",
    "        oof[valid_index] = y_pred_valid.reshape(-1,)\n",
    "        scores.append(mean_absolute_error(y_valid, y_pred_valid))\n",
    "\n",
    "        prediction += y_pred    \n",
    "        \n",
    "        # feature importance\n",
    "        fold_importance = pd.DataFrame()\n",
    "        fold_importance[\"feature\"] = X.columns\n",
    "        fold_importance[\"importance\"] = model.feature_importances_\n",
    "        fold_importance[\"fold\"] = fold_n + 1\n",
    "        feature_importance = pd.concat([feature_importance, fold_importance], axis=0)\n",
    "\n",
    "        \n",
    "    prediction /= n_fold\n",
    "    \n",
    "    print('CV mean score: {0:.4f}, std: {1:.4f}.'.format(np.mean(scores), np.std(scores)))\n",
    "        \n",
    "    #plot feature importance\n",
    "    feature_importance[\"importance\"] /= n_fold\n",
    "    if plot_feature_importance:\n",
    "        cols = feature_importance[[\"feature\", \"importance\"]].groupby(\"feature\").mean().sort_values(\n",
    "            by=\"importance\", ascending=False)[:50].index\n",
    "\n",
    "        best_features = feature_importance.loc[feature_importance.feature.isin(cols)]\n",
    "\n",
    "        plt.figure(figsize=(16, 12));\n",
    "        sns.barplot(x=\"importance\", y=\"feature\", data=best_features.sort_values(by=\"importance\", ascending=False));\n",
    "        plt.title('LGB Features (avg over folds)');\n",
    "\n",
    "        return oof, prediction, feature_importance\n",
    "    \n",
    "    return oof, prediction"
   ]
  },
  {
   "cell_type": "code",
   "execution_count": null,
   "metadata": {},
   "outputs": [],
   "source": [
    "params = {'num_leaves': 128,\n",
    "          'min_data_in_leaf': 79,\n",
    "          'objective': 'huber',\n",
    "          'max_depth': -1,\n",
    "          'learning_rate': 0.01,\n",
    "          \"boosting\": \"gbdt\",\n",
    "          \"bagging_freq\": 5,\n",
    "          \"bagging_fraction\": 0.8126672064208567,\n",
    "          \"bagging_seed\": 11,\n",
    "          \"metric\": 'mae',\n",
    "          \"verbosity\": -1,\n",
    "          'reg_alpha': 0.1302650970728192,\n",
    "          'reg_lambda': 0.3603427518866501}\n",
    "\n",
    "oof_lgb, prediction_lgb, feature_importance = train_model(params=params, \n",
    "                                                          model_type='lgb',\n",
    "                                                          plot_feature_importance=True)"
   ]
  },
  {
   "cell_type": "code",
   "execution_count": null,
   "metadata": {},
   "outputs": [],
   "source": [
    "top_cols = list(feature_importance[[\"feature\", \"importance\"]].groupby(\"feature\").mean().sort_values(\n",
    "                by=\"importance\", ascending=False)[:50].index)"
   ]
  },
  {
   "cell_type": "code",
   "execution_count": null,
   "metadata": {},
   "outputs": [],
   "source": [
    "# Taking less columns seriously decreases score.\n",
    "X_train_scaled = X_train_scaled[top_cols]\n",
    "X_test_scaled = X_test_scaled[top_cols]\n",
    "\n",
    "oof_lgb, prediction_lgb, feature_importance = train_model(X=X_train_scaled, \n",
    "                                                          X_test=X_test_scaled, \n",
    "                                                          params=params, \n",
    "                                                          model_type='lgb',\n",
    "                                                          plot_feature_importance=True)"
   ]
  },
  {
   "cell_type": "code",
   "execution_count": null,
   "metadata": {},
   "outputs": [],
   "source": []
  },
  {
   "cell_type": "code",
   "execution_count": null,
   "metadata": {},
   "outputs": [],
   "source": []
  },
  {
   "cell_type": "code",
   "execution_count": null,
   "metadata": {},
   "outputs": [],
   "source": []
  },
  {
   "cell_type": "code",
   "execution_count": null,
   "metadata": {},
   "outputs": [],
   "source": []
  },
  {
   "cell_type": "code",
   "execution_count": null,
   "metadata": {},
   "outputs": [],
   "source": []
  },
  {
   "cell_type": "code",
   "execution_count": null,
   "metadata": {},
   "outputs": [],
   "source": []
  },
  {
   "cell_type": "markdown",
   "metadata": {},
   "source": [
    "## Evaluation"
   ]
  },
  {
   "cell_type": "code",
   "execution_count": null,
   "metadata": {},
   "outputs": [],
   "source": []
  },
  {
   "cell_type": "code",
   "execution_count": null,
   "metadata": {},
   "outputs": [],
   "source": []
  },
  {
   "cell_type": "code",
   "execution_count": null,
   "metadata": {},
   "outputs": [],
   "source": []
  },
  {
   "cell_type": "code",
   "execution_count": null,
   "metadata": {},
   "outputs": [],
   "source": []
  },
  {
   "cell_type": "code",
   "execution_count": null,
   "metadata": {},
   "outputs": [],
   "source": []
  },
  {
   "cell_type": "markdown",
   "metadata": {},
   "source": [
    "## Real match prediction"
   ]
  },
  {
   "cell_type": "code",
   "execution_count": null,
   "metadata": {},
   "outputs": [],
   "source": []
  },
  {
   "cell_type": "code",
   "execution_count": null,
   "metadata": {},
   "outputs": [],
   "source": []
  },
  {
   "cell_type": "code",
   "execution_count": null,
   "metadata": {},
   "outputs": [],
   "source": []
  },
  {
   "cell_type": "code",
   "execution_count": null,
   "metadata": {},
   "outputs": [],
   "source": []
  }
 ],
 "metadata": {
  "kernelspec": {
   "display_name": "tf-gpu",
   "language": "python",
   "name": "tf-gpu"
  },
  "language_info": {
   "codemirror_mode": {
    "name": "ipython",
    "version": 3
   },
   "file_extension": ".py",
   "mimetype": "text/x-python",
   "name": "python",
   "nbconvert_exporter": "python",
   "pygments_lexer": "ipython3",
   "version": "3.7.4"
  }
 },
 "nbformat": 4,
 "nbformat_minor": 4
}
