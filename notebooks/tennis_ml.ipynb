{
 "cells": [
  {
   "cell_type": "code",
   "execution_count": 3,
   "metadata": {},
   "outputs": [],
   "source": [
    "import tensorflow as tf\n",
    "import keras\n",
    "import pandas as pd\n",
    "import numpy as np\n",
    "import os\n",
    "import sys\n",
    "import glob\n",
    "import matplotlib.pyplot as plt\n",
    "from sklearn.linear_model import LinearRegression"
   ]
  },
  {
   "cell_type": "code",
   "execution_count": 4,
   "metadata": {},
   "outputs": [],
   "source": [
    "pd.set_option('display.max_columns', None)"
   ]
  },
  {
   "cell_type": "code",
   "execution_count": 5,
   "metadata": {},
   "outputs": [],
   "source": [
    "players = pd.read_csv('/home/ryan/ml/tennis_ml/tennis_atp/atp_players.csv', \n",
    "                      header=None, \n",
    "                      names=['player_id', 'first_name', 'last_name', 'hand', 'birthday','country_code'])"
   ]
  },
  {
   "cell_type": "code",
   "execution_count": 6,
   "metadata": {},
   "outputs": [
    {
     "data": {
      "text/html": [
       "<div>\n",
       "<style scoped>\n",
       "    .dataframe tbody tr th:only-of-type {\n",
       "        vertical-align: middle;\n",
       "    }\n",
       "\n",
       "    .dataframe tbody tr th {\n",
       "        vertical-align: top;\n",
       "    }\n",
       "\n",
       "    .dataframe thead th {\n",
       "        text-align: right;\n",
       "    }\n",
       "</style>\n",
       "<table border=\"1\" class=\"dataframe\">\n",
       "  <thead>\n",
       "    <tr style=\"text-align: right;\">\n",
       "      <th></th>\n",
       "      <th>player_id</th>\n",
       "      <th>first_name</th>\n",
       "      <th>last_name</th>\n",
       "      <th>hand</th>\n",
       "      <th>birthday</th>\n",
       "      <th>country_code</th>\n",
       "    </tr>\n",
       "  </thead>\n",
       "  <tbody>\n",
       "    <tr>\n",
       "      <td>0</td>\n",
       "      <td>100001</td>\n",
       "      <td>Gardnar</td>\n",
       "      <td>Mulloy</td>\n",
       "      <td>R</td>\n",
       "      <td>19131122.0</td>\n",
       "      <td>USA</td>\n",
       "    </tr>\n",
       "    <tr>\n",
       "      <td>1</td>\n",
       "      <td>100002</td>\n",
       "      <td>Pancho</td>\n",
       "      <td>Segura</td>\n",
       "      <td>R</td>\n",
       "      <td>19210620.0</td>\n",
       "      <td>ECU</td>\n",
       "    </tr>\n",
       "    <tr>\n",
       "      <td>2</td>\n",
       "      <td>100003</td>\n",
       "      <td>Frank</td>\n",
       "      <td>Sedgman</td>\n",
       "      <td>R</td>\n",
       "      <td>19271002.0</td>\n",
       "      <td>AUS</td>\n",
       "    </tr>\n",
       "    <tr>\n",
       "      <td>3</td>\n",
       "      <td>100004</td>\n",
       "      <td>Giuseppe</td>\n",
       "      <td>Merlo</td>\n",
       "      <td>R</td>\n",
       "      <td>19271011.0</td>\n",
       "      <td>ITA</td>\n",
       "    </tr>\n",
       "    <tr>\n",
       "      <td>4</td>\n",
       "      <td>100005</td>\n",
       "      <td>Richard Pancho</td>\n",
       "      <td>Gonzales</td>\n",
       "      <td>R</td>\n",
       "      <td>19280509.0</td>\n",
       "      <td>USA</td>\n",
       "    </tr>\n",
       "    <tr>\n",
       "      <td>...</td>\n",
       "      <td>...</td>\n",
       "      <td>...</td>\n",
       "      <td>...</td>\n",
       "      <td>...</td>\n",
       "      <td>...</td>\n",
       "      <td>...</td>\n",
       "    </tr>\n",
       "    <tr>\n",
       "      <td>54892</td>\n",
       "      <td>209858</td>\n",
       "      <td>Vladimir</td>\n",
       "      <td>Osminkin</td>\n",
       "      <td>U</td>\n",
       "      <td>NaN</td>\n",
       "      <td>RUS</td>\n",
       "    </tr>\n",
       "    <tr>\n",
       "      <td>54893</td>\n",
       "      <td>209859</td>\n",
       "      <td>Rostislav</td>\n",
       "      <td>Galfinger</td>\n",
       "      <td>U</td>\n",
       "      <td>20021112.0</td>\n",
       "      <td>KAZ</td>\n",
       "    </tr>\n",
       "    <tr>\n",
       "      <td>54894</td>\n",
       "      <td>209860</td>\n",
       "      <td>Ignacio</td>\n",
       "      <td>Buse</td>\n",
       "      <td>U</td>\n",
       "      <td>20040325.0</td>\n",
       "      <td>PER</td>\n",
       "    </tr>\n",
       "    <tr>\n",
       "      <td>54895</td>\n",
       "      <td>209861</td>\n",
       "      <td>Maj</td>\n",
       "      <td>Tomac</td>\n",
       "      <td>U</td>\n",
       "      <td>20010504.0</td>\n",
       "      <td>SLO</td>\n",
       "    </tr>\n",
       "    <tr>\n",
       "      <td>54896</td>\n",
       "      <td>209862</td>\n",
       "      <td>Marco</td>\n",
       "      <td>Franzini</td>\n",
       "      <td>U</td>\n",
       "      <td>20010312.0</td>\n",
       "      <td>ITA</td>\n",
       "    </tr>\n",
       "  </tbody>\n",
       "</table>\n",
       "<p>54897 rows × 6 columns</p>\n",
       "</div>"
      ],
      "text/plain": [
       "       player_id      first_name  last_name hand    birthday country_code\n",
       "0         100001         Gardnar     Mulloy    R  19131122.0          USA\n",
       "1         100002          Pancho     Segura    R  19210620.0          ECU\n",
       "2         100003           Frank    Sedgman    R  19271002.0          AUS\n",
       "3         100004        Giuseppe      Merlo    R  19271011.0          ITA\n",
       "4         100005  Richard Pancho   Gonzales    R  19280509.0          USA\n",
       "...          ...             ...        ...  ...         ...          ...\n",
       "54892     209858        Vladimir   Osminkin    U         NaN          RUS\n",
       "54893     209859       Rostislav  Galfinger    U  20021112.0          KAZ\n",
       "54894     209860         Ignacio       Buse    U  20040325.0          PER\n",
       "54895     209861             Maj      Tomac    U  20010504.0          SLO\n",
       "54896     209862           Marco   Franzini    U  20010312.0          ITA\n",
       "\n",
       "[54897 rows x 6 columns]"
      ]
     },
     "execution_count": 6,
     "metadata": {},
     "output_type": "execute_result"
    }
   ],
   "source": [
    "players"
   ]
  },
  {
   "cell_type": "code",
   "execution_count": null,
   "metadata": {},
   "outputs": [],
   "source": []
  },
  {
   "cell_type": "code",
   "execution_count": 7,
   "metadata": {},
   "outputs": [],
   "source": [
    "df = pd.read_csv('/home/ryan/ml/tennis_ml/tennis_atp/atp_matches_2019.csv')"
   ]
  },
  {
   "cell_type": "code",
   "execution_count": 8,
   "metadata": {
    "scrolled": true
   },
   "outputs": [
    {
     "data": {
      "text/plain": [
       "['tourney_id',\n",
       " 'tourney_name',\n",
       " 'surface',\n",
       " 'draw_size',\n",
       " 'tourney_level',\n",
       " 'tourney_date',\n",
       " 'match_num',\n",
       " 'winner_id',\n",
       " 'winner_seed',\n",
       " 'winner_entry',\n",
       " 'winner_name',\n",
       " 'winner_hand',\n",
       " 'winner_ht',\n",
       " 'winner_ioc',\n",
       " 'winner_age',\n",
       " 'loser_id',\n",
       " 'loser_seed',\n",
       " 'loser_entry',\n",
       " 'loser_name',\n",
       " 'loser_hand',\n",
       " 'loser_ht',\n",
       " 'loser_ioc',\n",
       " 'loser_age',\n",
       " 'score',\n",
       " 'best_of',\n",
       " 'round',\n",
       " 'minutes',\n",
       " 'w_ace',\n",
       " 'w_df',\n",
       " 'w_svpt',\n",
       " 'w_1stIn',\n",
       " 'w_1stWon',\n",
       " 'w_2ndWon',\n",
       " 'w_SvGms',\n",
       " 'w_bpSaved',\n",
       " 'w_bpFaced',\n",
       " 'l_ace',\n",
       " 'l_df',\n",
       " 'l_svpt',\n",
       " 'l_1stIn',\n",
       " 'l_1stWon',\n",
       " 'l_2ndWon',\n",
       " 'l_SvGms',\n",
       " 'l_bpSaved',\n",
       " 'l_bpFaced',\n",
       " 'winner_rank',\n",
       " 'winner_rank_points',\n",
       " 'loser_rank',\n",
       " 'loser_rank_points']"
      ]
     },
     "execution_count": 8,
     "metadata": {},
     "output_type": "execute_result"
    }
   ],
   "source": [
    "list(df.columns.values)"
   ]
  },
  {
   "cell_type": "code",
   "execution_count": 78,
   "metadata": {
    "scrolled": true
   },
   "outputs": [
    {
     "name": "stderr",
     "output_type": "stream",
     "text": [
      "/home/ryan/.conda/envs/tf-gpu/lib/python3.7/site-packages/numpy/core/fromnumeric.py:3257: RuntimeWarning: Mean of empty slice.\n",
      "  out=out, **kwargs)\n",
      "/home/ryan/.conda/envs/tf-gpu/lib/python3.7/site-packages/numpy/core/_methods.py:161: RuntimeWarning: invalid value encountered in double_scalars\n",
      "  ret = ret.dtype.type(ret / rcount)\n",
      "/home/ryan/.conda/envs/tf-gpu/lib/python3.7/site-packages/ipykernel_launcher.py:56: RuntimeWarning: Mean of empty slice.\n",
      "/home/ryan/.conda/envs/tf-gpu/lib/python3.7/site-packages/numpy/core/_methods.py:217: RuntimeWarning: Degrees of freedom <= 0 for slice\n",
      "  keepdims=keepdims)\n",
      "/home/ryan/.conda/envs/tf-gpu/lib/python3.7/site-packages/numpy/core/_methods.py:186: RuntimeWarning: invalid value encountered in true_divide\n",
      "  arrmean, rcount, out=arrmean, casting='unsafe', subok=False)\n",
      "/home/ryan/.conda/envs/tf-gpu/lib/python3.7/site-packages/numpy/core/_methods.py:209: RuntimeWarning: invalid value encountered in double_scalars\n",
      "  ret = ret.dtype.type(ret / rcount)\n",
      "/home/ryan/.conda/envs/tf-gpu/lib/python3.7/site-packages/ipykernel_launcher.py:61: RuntimeWarning: Mean of empty slice.\n",
      "/home/ryan/.conda/envs/tf-gpu/lib/python3.7/site-packages/ipykernel_launcher.py:59: RuntimeWarning: divide by zero encountered in true_divide\n",
      "/home/ryan/.conda/envs/tf-gpu/lib/python3.7/site-packages/ipykernel_launcher.py:64: RuntimeWarning: divide by zero encountered in true_divide\n",
      "/home/ryan/.conda/envs/tf-gpu/lib/python3.7/site-packages/ipykernel_launcher.py:59: RuntimeWarning: invalid value encountered in true_divide\n",
      "/home/ryan/.conda/envs/tf-gpu/lib/python3.7/site-packages/ipykernel_launcher.py:64: RuntimeWarning: invalid value encountered in true_divide\n"
     ]
    }
   ],
   "source": [
    "###iterate through player ids and collect features\n",
    "#for pid in target_pids: ....\n",
    "\n",
    "target_pid = 105453 #do one for now...\n",
    "\n",
    "#instantiate a new dictionary to keep track of player stats\n",
    "#this will be useful for diffing them later to create input-target pairs\n",
    "pid_dict = {}\n",
    "\n",
    "### get features from whether the target player won or lost\n",
    "df2 = df[(df.loc[:,'winner_id'] == target_pid ) | (df.loc[:,'loser_id'] == target_pid)]\n",
    "\n",
    "###create target column here\n",
    "y = [1 if pid==target_pid else 0 for pid in df2.winner_id.values]\n",
    "y = pd.DataFrame(data=y, columns=['target'])\n",
    "df2\n",
    "###switch up the dataframe to account for losses since after \n",
    "###taking target into account, we dont care about winner/loser specific columns\n",
    "swapped_features = ['ace', 'df', 'svpt', '1stIn', '1stWon', '2ndWon', 'SvGms', 'bpSaved', 'bpFaced']\n",
    "for swapFeat in swapped_features:\n",
    "    df2.loc[(y.target.values == 0), f'w_{swapFeat}'] = df2.loc[(y.target.values == 0), f'l_{swapFeat}'] #repeat for all w/l features\n",
    "\n",
    "### #sort by tournament date so features are sequential/time-dependant\n",
    "df2 = df2.sort_values('tourney_date')\n",
    "df2\n",
    "\n",
    "###extract stats from features\n",
    "segments = df2.shape[0]\n",
    "features = ['w_ace', 'w_df', 'w_svpt', 'w_1stIn', 'w_1stWon', 'w_2ndWon', 'w_SvGms', 'w_bpSaved', 'w_bpFaced']\n",
    "x_tr = extract_stats(df2, segments, features)\n",
    "\n",
    "### save to dictionary by PID\n",
    "pid_dict.update({target_pid : x_tr})"
   ]
  },
  {
   "cell_type": "code",
   "execution_count": null,
   "metadata": {},
   "outputs": [],
   "source": []
  },
  {
   "cell_type": "code",
   "execution_count": null,
   "metadata": {},
   "outputs": [],
   "source": []
  },
  {
   "cell_type": "code",
   "execution_count": null,
   "metadata": {},
   "outputs": [],
   "source": []
  },
  {
   "cell_type": "code",
   "execution_count": null,
   "metadata": {},
   "outputs": [],
   "source": []
  },
  {
   "cell_type": "code",
   "execution_count": 76,
   "metadata": {},
   "outputs": [
    {
     "data": {
      "image/png": "[encoded data removed]",
      "text/plain": [
       "<Figure size 1080x504 with 1 Axes>"
      ]
     },
     "metadata": {
      "needs_background": "light"
     },
     "output_type": "display_data"
    }
   ],
   "source": [
    "plt.figure(figsize=(15,7))\n",
    "plt.plot(df2.w_ace.values, color='b')\n",
    "plt.plot(df2.w_df.values, color='r')\n",
    "plt.plot(df2.w_bpFaced.values, color='g')\n",
    "plt.plot(df2.w_bpSaved.values, 'g--')\n",
    "plt.show()"
   ]
  },
  {
   "cell_type": "code",
   "execution_count": 77,
   "metadata": {},
   "outputs": [],
   "source": [
    "def extract_stats(df, segments, features):\n",
    "\n",
    "    #main dataframe for storing stats\n",
    "    X_tr = pd.DataFrame(index=range(segments), dtype=np.float64)\n",
    "    \n",
    "    for feature in features:\n",
    "    \n",
    "        #time series data\n",
    "        x_full = pd.Series(df[f'{feature}'].values)\n",
    "        feature_name = feature[2:]\n",
    "    \n",
    "        for segment in range(segments):\n",
    "            #take all of x until that point in time\n",
    "            x = x_full[:segment+1]\n",
    "            \n",
    "            #compute stats on this feature\n",
    "            X_tr.loc[segment, f'{feature_name}_mean'] = x.mean()\n",
    "            X_tr.loc[segment, f'{feature_name}_std'] = x.std()\n",
    "            X_tr.loc[segment, f'{feature_name}_max'] = x.max()\n",
    "            X_tr.loc[segment, f'{feature_name}_min'] = x.min()\n",
    "\n",
    "            X_tr.loc[segment, f'{feature_name}_mean_change_abs'] = np.mean(np.diff(x))\n",
    "            X_tr.loc[segment, f'{feature_name}_abs_max'] = np.abs(x).max()\n",
    "            X_tr.loc[segment, f'{feature_name}_abs_min'] = np.abs(x).min()\n",
    "\n",
    "#             X_tr.loc[segment, 'max_to_min_diff'] = x.max() - np.abs(x.min())\n",
    "#             X_tr.loc[segment, 'sum'] = x.sum()\n",
    "\n",
    "#             X_tr.loc[segment, 'q95'] = np.quantile(x, 0.95)\n",
    "#             X_tr.loc[segment, 'q99'] = np.quantile(x, 0.99)\n",
    "#             X_tr.loc[segment, 'q05'] = np.quantile(x, 0.05)\n",
    "#             X_tr.loc[segment, 'q01'] = np.quantile(x, 0.01)\n",
    "\n",
    "#             X_tr.loc[segment, 'abs_q95'] = np.quantile(np.abs(x), 0.95)\n",
    "#             X_tr.loc[segment, 'abs_q99'] = np.quantile(np.abs(x), 0.99)\n",
    "#             X_tr.loc[segment, 'abs_q05'] = np.quantile(np.abs(x), 0.05)\n",
    "#             X_tr.loc[segment, 'abs_q01'] = np.quantile(np.abs(x), 0.01)\n",
    "\n",
    "#########################\n",
    "        #     X_tr.loc[segment, 'trend'] = add_trend_feature(x)\n",
    "        #     X_tr.loc[segment, 'abs_trend'] = add_trend_feature(x, abs_values=True)\n",
    "        #     X_tr.loc[segment, 'abs_mean'] = np.abs(x).mean()\n",
    "        #     X_tr.loc[segment, 'abs_std'] = np.abs(x).std()\n",
    "#######################\n",
    "#             X_tr.loc[segment, 'mad'] = x.mad()\n",
    "#             X_tr.loc[segment, 'kurt'] = x.kurtosis()\n",
    "#             X_tr.loc[segment, 'skew'] = x.skew()\n",
    "#             X_tr.loc[segment, 'med'] = x.median()\n",
    "\n",
    "            #rolling stats\n",
    "#             for windows in [2, 4, 6, 8, 10, 12, 14, 16, 20, 25]:\n",
    "            for windows in [2, 4, 6]:\n",
    "                x_roll_std = x.rolling(windows).std().dropna().values\n",
    "                x_roll_mean = x.rolling(windows).mean().dropna().values\n",
    "\n",
    "                X_tr.loc[segment, f'{feature_name}_ave_roll_std_' + str(windows)] = x_roll_std.mean()\n",
    "                X_tr.loc[segment, f'{feature_name}_std_roll_std_' + str(windows)] = x_roll_std.std()\n",
    "                X_tr.loc[segment, f'{feature_name}_av_change_abs_roll_std_' + str(windows)] = np.mean(np.diff(x_roll_std))\n",
    "                X_tr.loc[segment, f'{feature_name}_av_change_rate_roll_std_' + str(windows)] = np.mean(np.nonzero((np.diff(x_roll_std) / x_roll_std[:-1]))[0])\n",
    "\n",
    "                X_tr.loc[segment, f'{feature_name}_ave_roll_mean_' + str(windows)] = x_roll_mean.mean()\n",
    "                X_tr.loc[segment, f'{feature_name}_std_roll_mean_' + str(windows)] = x_roll_mean.std()\n",
    "                X_tr.loc[segment, f'{feature_name}_av_change_abs_roll_mean_' + str(windows)] = np.mean(np.diff(x_roll_mean))\n",
    "                X_tr.loc[segment, f'{feature_name}_av_change_rate_roll_mean_' + str(windows)] = np.mean(np.nonzero((np.diff(x_roll_mean) / x_roll_mean[:-1]))[0])\n",
    "                \n",
    "    #fill all NaN values with 0\n",
    "    X_tr = X_tr.fillna(value=0.0)\n",
    "    \n",
    "    return X_tr"
   ]
  },
  {
   "cell_type": "code",
   "execution_count": null,
   "metadata": {},
   "outputs": [],
   "source": []
  },
  {
   "cell_type": "code",
   "execution_count": null,
   "metadata": {},
   "outputs": [],
   "source": []
  },
  {
   "cell_type": "code",
   "execution_count": null,
   "metadata": {},
   "outputs": [],
   "source": []
  },
  {
   "cell_type": "markdown",
   "metadata": {},
   "source": [
    "## Model developement"
   ]
  },
  {
   "cell_type": "code",
   "execution_count": null,
   "metadata": {},
   "outputs": [],
   "source": [
    "#XGBoost/CatBoost/LGBM"
   ]
  },
  {
   "cell_type": "code",
   "execution_count": null,
   "metadata": {},
   "outputs": [],
   "source": []
  },
  {
   "cell_type": "code",
   "execution_count": null,
   "metadata": {},
   "outputs": [],
   "source": []
  },
  {
   "cell_type": "code",
   "execution_count": null,
   "metadata": {},
   "outputs": [],
   "source": []
  },
  {
   "cell_type": "code",
   "execution_count": null,
   "metadata": {},
   "outputs": [],
   "source": []
  },
  {
   "cell_type": "code",
   "execution_count": null,
   "metadata": {},
   "outputs": [],
   "source": []
  },
  {
   "cell_type": "code",
   "execution_count": null,
   "metadata": {},
   "outputs": [],
   "source": []
  },
  {
   "cell_type": "code",
   "execution_count": null,
   "metadata": {},
   "outputs": [],
   "source": []
  },
  {
   "cell_type": "code",
   "execution_count": null,
   "metadata": {},
   "outputs": [],
   "source": []
  },
  {
   "cell_type": "code",
   "execution_count": null,
   "metadata": {},
   "outputs": [],
   "source": []
  },
  {
   "cell_type": "code",
   "execution_count": null,
   "metadata": {},
   "outputs": [],
   "source": []
  },
  {
   "cell_type": "markdown",
   "metadata": {},
   "source": [
    "## Evaluation"
   ]
  },
  {
   "cell_type": "code",
   "execution_count": null,
   "metadata": {},
   "outputs": [],
   "source": []
  },
  {
   "cell_type": "code",
   "execution_count": null,
   "metadata": {},
   "outputs": [],
   "source": []
  },
  {
   "cell_type": "code",
   "execution_count": null,
   "metadata": {},
   "outputs": [],
   "source": []
  },
  {
   "cell_type": "code",
   "execution_count": null,
   "metadata": {},
   "outputs": [],
   "source": []
  },
  {
   "cell_type": "code",
   "execution_count": null,
   "metadata": {},
   "outputs": [],
   "source": []
  },
  {
   "cell_type": "code",
   "execution_count": null,
   "metadata": {},
   "outputs": [],
   "source": []
  },
  {
   "cell_type": "code",
   "execution_count": null,
   "metadata": {},
   "outputs": [],
   "source": []
  },
  {
   "cell_type": "code",
   "execution_count": null,
   "metadata": {},
   "outputs": [],
   "source": []
  },
  {
   "cell_type": "code",
   "execution_count": null,
   "metadata": {},
   "outputs": [],
   "source": []
  }
 ],
 "metadata": {
  "kernelspec": {
   "display_name": "tf-gpu",
   "language": "python",
   "name": "tf-gpu"
  },
  "language_info": {
   "codemirror_mode": {
    "name": "ipython",
    "version": 3
   },
   "file_extension": ".py",
   "mimetype": "text/x-python",
   "name": "python",
   "nbconvert_exporter": "python",
   "pygments_lexer": "ipython3",
   "version": "3.7.4"
  }
 },
 "nbformat": 4,
 "nbformat_minor": 4
}
